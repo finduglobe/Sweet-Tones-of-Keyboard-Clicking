{
 "cells": [
  {
   "cell_type": "code",
   "execution_count": null,
   "metadata": {},
   "outputs": [],
   "source": [
    "import cmath\n",
    "import numpy\n",
    "\n",
    "print(\"Select a number from 1 to 3\")\n",
    "sel=int(input(\"Please enter a number:\\n\"))\n",
    "\n",
    "if sel>3 or sel<1:\n",
    "    print(\"Please restart the application and select a number from the given range.\\n\")\n",
    "    \n",
    "elif sel==1:\n",
    "    print(\"Let's calculate the hypotenuse of some triangle:\\n\")\n",
    "    a=int(input(\"Please enter a number for the first verticle.\\n\"))\n",
    "    b=int(input(\"Please enter a number for the second verticle.\\n\"))\n",
    "    c=(((a*a)+(b*b)))**(1/2)\n",
    "    print(\"Hypotenuse is:\\t\",c)\n",
    "\n",
    "elif sel==2:\n",
    "    print(\"Please enter a number to count all the way from one.\\n\")\n",
    "    d=int(input())\n",
    "    f=1\n",
    "    while d>=f:\n",
    "        print(f)\n",
    "        f=f+1\n",
    "        \n",
    "elif sel==3:\n",
    "    print(\"Please enter six numbers for calculating their arithmetic mean.\\n\")\n",
    "    print(\"Make them rain!\\n\")\n",
    "    num_1=float(input())\n",
    "    num_2=float(input())\n",
    "    num_3=float(input())\n",
    "    num_4=float(input())\n",
    "    num_5=float(input())\n",
    "    num_6=float(input())\n",
    "    summation=num_1+num_2+num_3+num_4+num_5+num_6\n",
    "    arithmetic_mean=summation/6\n",
    "    print(\"Arithmetic mean of the numbers that you gave is:\\t\",arithmetic_mean)"
   ]
  }
 ],
 "metadata": {
  "kernelspec": {
   "display_name": "Python 3",
   "language": "python",
   "name": "python3"
  },
  "language_info": {
   "codemirror_mode": {
    "name": "ipython",
    "version": 3
   },
   "file_extension": ".py",
   "mimetype": "text/x-python",
   "name": "python",
   "nbconvert_exporter": "python",
   "pygments_lexer": "ipython3",
   "version": "3.6.7"
  }
 },
 "nbformat": 4,
 "nbformat_minor": 2
}
