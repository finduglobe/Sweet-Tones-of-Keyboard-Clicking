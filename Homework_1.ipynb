{
 "cells": [
  {
   "cell_type": "code",
   "execution_count": 9,
   "metadata": {},
   "outputs": [
    {
     "name": "stdout",
     "output_type": "stream",
     "text": [
      "Ilk sayi: 2\n",
      "Ikinici sayi: 4\n",
      "Ucuncu sayi: 1\n",
      "Cozum:  -1,-1\n"
     ]
    }
   ],
   "source": [
    "import cmath\n",
    "\n",
    "a=float(input(\"Ilk sayi: \"))\n",
    "b=float(input(\"Ikinici sayi: \"))\n",
    "c=float(input(\"Ucuncu sayi: \"))\n",
    "d = (b**2) - (4*a*c)\n",
    "sol_1 = (-b-(0.5**d))/(2*a)\n",
    "sol_2 = (-b+(0.5**d))/(2*a)\n",
    "print('Cozum:  %0.f,%0.f'%(sol_1,sol_2))"
   ]
  },
  {
   "cell_type": "code",
   "execution_count": null,
   "metadata": {},
   "outputs": [],
   "source": []
  }
 ],
 "metadata": {
  "kernelspec": {
   "display_name": "Python 3",
   "language": "python",
   "name": "python3"
  },
  "language_info": {
   "codemirror_mode": {
    "name": "ipython",
    "version": 3
   },
   "file_extension": ".py",
   "mimetype": "text/x-python",
   "name": "python",
   "nbconvert_exporter": "python",
   "pygments_lexer": "ipython3",
   "version": "3.6.7"
  }
 },
 "nbformat": 4,
 "nbformat_minor": 2
}
